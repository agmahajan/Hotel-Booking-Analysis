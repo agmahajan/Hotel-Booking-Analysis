{
  "nbformat": 4,
  "nbformat_minor": 0,
  "metadata": {
    "colab": {
      "private_outputs": true,
      "provenance": [],
      "collapsed_sections": [
        "PH-0ReGfmX4f",
        "mDgbUHAGgjLW",
        "PBTbrJXOngz2",
        "gIfDvo9L0UH2"
      ],
      "include_colab_link": true
    },
    "kernelspec": {
      "name": "python3",
      "display_name": "Python 3"
    },
    "language_info": {
      "name": "python"
    }
  },
  "cells": [
    {
      "cell_type": "markdown",
      "metadata": {
        "id": "view-in-github",
        "colab_type": "text"
      },
      "source": [
        "<a href=\"https://colab.research.google.com/github/agmahajan/Hotel-Booking-Analysis/blob/main/Hotel_Booking_analysis_Aniket_Mahajan.ipynb\" target=\"_parent\"><img src=\"https://colab.research.google.com/assets/colab-badge.svg\" alt=\"Open In Colab\"/></a>"
      ]
    },
    {
      "cell_type": "markdown",
      "source": [
        "# **Project Name**    -\n",
        "\n"
      ],
      "metadata": {
        "id": "vncDsAP0Gaoa"
      }
    },
    {
      "cell_type": "markdown",
      "source": [
        "##### **Project Type**    - EDA/Regression/Classification/Unsupervised\n",
        "##### **Contribution**    - Team\n",
        "##### **Team Member 1 -** Aniket  Mahajan\n",
        "##### **Team Member 2 -** Akshay Yede\n",
        "##### **Team Member 3 -**\n",
        "##### **Team Member 4 -**"
      ],
      "metadata": {
        "id": "beRrZCGUAJYm"
      }
    },
    {
      "cell_type": "markdown",
      "source": [
        "# **Project Summary -**"
      ],
      "metadata": {
        "id": "FJNUwmbgGyua"
      }
    },
    {
      "cell_type": "markdown",
      "source": [
        "Write the summary here within 500-600 words.\n",
        "Have you ever wondered when the best time of year to book a hotel room is? Or the optimal length of stay in order to get the best daily rate? What if you wanted to predict whether or not a hotel was likely to receive a disproportionately high number of special requests? This hotel booking dataset can help you explore those questions! This data set contains booking information for a city hotel and a resort hotel, and includes information such as when the booking was made, length of stay, the number of adults, children, and/or babies, and the number of available parking spaces, among other things. All personally identifying information has been removed from the data. Explore and analyse the data to discover important factors that govern the bookings."
      ],
      "metadata": {
        "id": "F6v_1wHtG2nS"
      }
    },
    {
      "cell_type": "markdown",
      "source": [
        "# **GitHub Link -**"
      ],
      "metadata": {
        "id": "w6K7xa23Elo4"
      }
    },
    {
      "cell_type": "markdown",
      "source": [
        "Provide your GitHub Link here."
      ],
      "metadata": {
        "id": "h1o69JH3Eqqn"
      }
    },
    {
      "cell_type": "markdown",
      "source": [
        "# **Problem Statement**\n"
      ],
      "metadata": {
        "id": "yQaldy8SH6Dl"
      }
    },
    {
      "cell_type": "markdown",
      "source": [
        "**Write Problem Statement Here.**\n",
        "We want to analyse when the best time of year to book  a hotel room or the optimal lenth of stay in order to get the best daily rate and all hotel related stuff which matter us to do the hotel booking.  We have to explore and analyse the data to discover important factors that govern the bookings."
      ],
      "metadata": {
        "id": "DpeJGUA3kjGy"
      }
    },
    {
      "cell_type": "markdown",
      "source": [
        "#### **Define Your Business Objective?**"
      ],
      "metadata": {
        "id": "PH-0ReGfmX4f"
      }
    },
    {
      "cell_type": "markdown",
      "source": [
        "Our Business objective is to derive the useful insights from the data after\n",
        "Efficient approach to the problem statement\n",
        "Data Exploration techniques and logic.\n",
        "Logic of handling missing values, and outliers.\n",
        "Visualization logic.\n",
        "How to form insights and understandings.\n",
        "Understanding of how your project is useful to stakeholders.\n",
        "And how the stake holder can derive insights from the data which will be further usefull for driving the profitable business."
      ],
      "metadata": {
        "id": "PhDvGCAqmjP1"
      }
    },
    {
      "cell_type": "markdown",
      "source": [
        "# **General Guidelines** : -  "
      ],
      "metadata": {
        "id": "mDgbUHAGgjLW"
      }
    },
    {
      "cell_type": "markdown",
      "source": [
        "1.   Well-structured, formatted, and commented code is required.\n",
        "2.   Exception Handling, Production Grade Code & Deployment Ready Code will be a plus. Those students will be awarded some additional credits.\n",
        "     \n",
        "     The additional credits will have advantages over other students during Star Student selection.\n",
        "       \n",
        "             [ Note: - Deployment Ready Code is defined as, the whole .ipynb notebook should be executable in one go\n",
        "                       without a single error logged. ]\n",
        "\n",
        "3.   Each and every logic should have proper comments.\n",
        "4. You may add as many number of charts you want. Make Sure for each and every chart the following format should be answered.\n",
        "        \n",
        "\n",
        "```\n",
        "# Chart visualization code\n",
        "```\n",
        "            \n",
        "\n",
        "*   Why did you pick the specific chart?\n",
        "*   What is/are the insight(s) found from the chart?\n",
        "* Will the gained insights help creating a positive business impact?\n",
        "Are there any insights that lead to negative growth? Justify with specific reason.\n",
        "\n",
        "5. You have to create at least 20 logical & meaningful charts having important insights.\n",
        "\n",
        "\n",
        "[ Hints : - Do the Vizualization in  a structured way while following \"UBM\" Rule.\n",
        "\n",
        "U - Univariate Analysis,\n",
        "\n",
        "B - Bivariate Analysis (Numerical - Categorical, Numerical - Numerical, Categorical - Categorical)\n",
        "\n",
        "M - Multivariate Analysis\n",
        " ]\n",
        "\n",
        "\n",
        "\n"
      ],
      "metadata": {
        "id": "ZrxVaUj-hHfC"
      }
    },
    {
      "cell_type": "markdown",
      "source": [
        "# ***Let's Begin !***"
      ],
      "metadata": {
        "id": "O_i_v8NEhb9l"
      }
    },
    {
      "cell_type": "markdown",
      "source": [
        "## ***1. Know Your Data***"
      ],
      "metadata": {
        "id": "HhfV-JJviCcP"
      }
    },
    {
      "cell_type": "markdown",
      "source": [
        "### Import Libraries"
      ],
      "metadata": {
        "id": "Y3lxredqlCYt"
      }
    },
    {
      "cell_type": "code",
      "source": [
        "import numpy as np\n",
        "import pandas as pd\n",
        "import matplotlib.pyplot as plt\n",
        "import seaborn as sns\n",
        "%matplotlib inline\n",
        "import plotly.express as px"
      ],
      "metadata": {
        "id": "M8Vqi-pPk-HR"
      },
      "execution_count": null,
      "outputs": []
    },
    {
      "cell_type": "markdown",
      "source": [
        "### Dataset Loading"
      ],
      "metadata": {
        "id": "3RnN4peoiCZX"
      }
    },
    {
      "cell_type": "code",
      "source": [
        "from google.colab import drive\n",
        "drive.mount('/content/drive')"
      ],
      "metadata": {
        "id": "4CkvbW_SlZ_R"
      },
      "execution_count": null,
      "outputs": []
    },
    {
      "cell_type": "code",
      "source": [
        "data_1=pd.read_csv('/content/drive/MyDrive/Hotel Bookings (1).csv')"
      ],
      "metadata": {
        "id": "55UfTe26Hdgk"
      },
      "execution_count": null,
      "outputs": []
    },
    {
      "cell_type": "markdown",
      "source": [
        "### Dataset First View"
      ],
      "metadata": {
        "id": "x71ZqKXriCWQ"
      }
    },
    {
      "cell_type": "code",
      "source": [
        "# Dataset First Look\n",
        "import pandas as pd\n",
        "data_1      # First look of data set in pythyon is given.\n",
        "\n",
        "data_1.head()   #it shows the first 5 rows, but you can specify the number of rows to display.\n",
        "\n",
        "data_1.tail()  #Similar to head(), but displays the last few rows of the DataFrame.\n"
      ],
      "metadata": {
        "id": "LWNFOSvLl09H"
      },
      "execution_count": null,
      "outputs": []
    },
    {
      "cell_type": "markdown",
      "source": [
        "### Dataset Rows & Columns count"
      ],
      "metadata": {
        "id": "7hBIi_osiCS2"
      }
    },
    {
      "cell_type": "code",
      "source": [
        "# Dataset Rows & Columns count\n",
        "data_1.shape # This attribute returns a tuple representing the dimensions of the DataFrame (number of rows, number of columns)."
      ],
      "metadata": {
        "id": "Kllu7SJgmLij"
      },
      "execution_count": null,
      "outputs": []
    },
    {
      "cell_type": "markdown",
      "source": [
        "### Dataset Information"
      ],
      "metadata": {
        "id": "JlHwYmJAmNHm"
      }
    },
    {
      "cell_type": "code",
      "source": [
        "# Dataset Info\n",
        "data_1.info() #This method provides a concise summary of the DataFrame,\n",
        "              #including the data types of each column, the number of non-null values, and memory usage.\n"
      ],
      "metadata": {
        "id": "e9hRXRi6meOf"
      },
      "execution_count": null,
      "outputs": []
    },
    {
      "cell_type": "markdown",
      "source": [
        "#### Duplicate Values"
      ],
      "metadata": {
        "id": "35m5QtbWiB9F"
      }
    },
    {
      "cell_type": "code",
      "source": [
        "#duplicate value count\n",
        "duplicate_rows = data_1.duplicated().sum()\n",
        "print(\"Number of duplicate rows:\", duplicate_rows)"
      ],
      "metadata": {
        "id": "1sLdpKYkmox0"
      },
      "execution_count": null,
      "outputs": []
    },
    {
      "cell_type": "markdown",
      "source": [
        "#### Missing Values/Null Values"
      ],
      "metadata": {
        "id": "PoPl-ycgm1ru"
      }
    },
    {
      "cell_type": "code",
      "source": [
        "#dropping the duplicate values\n",
        "data_1.drop_duplicates(inplace=True)"
      ],
      "metadata": {
        "id": "VLatKrDhqUWA"
      },
      "execution_count": null,
      "outputs": []
    },
    {
      "cell_type": "code",
      "source": [
        "# Visualizing the missing values\n",
        "data_2= data_1.isnull(). sum()\n",
        "data_2"
      ],
      "metadata": {
        "id": "3q5wnI3om9sJ"
      },
      "execution_count": null,
      "outputs": []
    },
    {
      "cell_type": "markdown",
      "source": [
        "### What did you know about your dataset?"
      ],
      "metadata": {
        "id": "H0kj-8xxnORC"
      }
    },
    {
      "cell_type": "markdown",
      "source": [
        "Answer Here\n",
        "\n",
        "1.   So from the above visualization also you can understand the missing values are in colum children, agent, country and company\n",
        "2. for children column those who dont have children for them value might be missing so replace it with zero.\n",
        "3. for agent and compamny booking might not be done from their side so it might be null. replace it with 0 as this colum have numeric values.\n",
        "4. country column have missing values as all countries might not be present in the list. replace it with others."
      ],
      "metadata": {
        "id": "gfoNAAC-nUe_"
      }
    },
    {
      "cell_type": "markdown",
      "source": [
        "## ***2. Understanding Your Variables***"
      ],
      "metadata": {
        "id": "nA9Y7ga8ng1Z"
      }
    },
    {
      "cell_type": "code",
      "source": [
        "# Dataset Columns\n",
        "data_1.columns  # it will gives us the column names for all the columns in data."
      ],
      "metadata": {
        "id": "j7xfkqrt5Ag5"
      },
      "execution_count": null,
      "outputs": []
    },
    {
      "cell_type": "code",
      "source": [
        "# Dataset Describe\n",
        "data_1.describe()  #This method generates descriptive statistics for numerical columns in the DataFrame,\n",
        "                   #such as count, mean, standard deviation, minimum, and maximum values."
      ],
      "metadata": {
        "id": "DnOaZdaE5Q5t"
      },
      "execution_count": null,
      "outputs": []
    },
    {
      "cell_type": "markdown",
      "source": [
        "### Variables Description"
      ],
      "metadata": {
        "id": "PBTbrJXOngz2"
      }
    },
    {
      "cell_type": "markdown",
      "source": [
        "### Check Unique Values for each variable."
      ],
      "metadata": {
        "id": "u3PMJOP6ngxN"
      }
    },
    {
      "cell_type": "markdown",
      "source": [
        "**Hotel** : (Resort Hotel or City Hotel)\n",
        "\n",
        "**is_canceled**: Value indicating if the booking was canceled (1) or not (0)\n",
        "\n",
        "**lead_time**: Number of days that elapsed between the entering date of the booking into the PMS and the arrival date\n",
        "\n",
        "**arrival_date_year**: Year of arrival date\n",
        "\n",
        "**arrival_date_month:** Month of arrival date\n",
        "\n",
        "**arrival_date_week_number**: Week number of year for arrival date\n",
        "\n",
        "**arrival_date_day_of_month:** Day of arrival date\n",
        "\n",
        "**stays_in_weekend_nights**: Number of weekend nights (Saturday or Sunday) the guest stayed or booked to stay at the hotel\n",
        "\n",
        "**stays_in_week_nights**: Number of week nights (Monday to Friday) the guest stayed or booked to stay at the hotel\n",
        "\n",
        "**adults**: Number of adults\n",
        "\n",
        "**children**: Number of children\n",
        "\n",
        "**babies**: Number of babies\n",
        "\n",
        "**meal**: Type of meal booked. Categories are presented in standard hospitality meal packages\n",
        "\n",
        "**country**: Country of origin.\n",
        "\n",
        "**market_segment**: Market segment designation. In categories, the term \"TA\" means \"Travel Agents\" and \"TO\" means \"Tour Operators\"\n",
        "\n",
        "**distribution_channel**: Booking distribution channel. The term “TA\" means \"Travel Agents” and “TO” means \"Tour Operators\"\n",
        "\n",
        "**is_repeated_guest**: Value indicating if the booking name was from a repeated guest (1) or not (0)\n",
        "\n",
        "**previous_cancellations**: Number of previous bookings that were cancelled by the customer prior to the current booking previous_bookings_not_canceled: Number of previous bookings not cancelled by the customer prior to the current booking\n",
        "\n",
        "**reserved_room_type**: Code of room type reserved. Code is presented instead of designation for anonymity reasons.\n",
        "\n",
        "**assigned_room_type**: Code for the type of room assigned to the booking.\n",
        "\n",
        "**booking_changes**: Number of changes/amendments made to the booking from the moment the booking was entered on the PMS until the moment of check-in or cancellation\n",
        "\n",
        "**deposit_type**: Indication on if the customer made a deposit to guarantee the booking.\n",
        "\n",
        "**agent**: ID of the travel agency that made the booking\n",
        "\n",
        "**company**: ID of the company/entity that made the booking or responsible for paying the booking.\n",
        "\n",
        "**days_in_waiting_list**: Number of days the booking was in the waiting list before it was confirmed to the customer\n",
        "\n",
        "**customer_type**: Type of booking, assuming one of four categories\n",
        "\n",
        "**adr**: Average Daily Rate as defined by dividing the sum of all lodging transactions by the total number of staying nights\n",
        "\n",
        "**required_car_parking spaces**: Number of car parking spaces required by the customer\n",
        "\n",
        "**total_of_special_requests**: Number of special requests made by the customer (e.g. twin bed or high floor)\n",
        "\n",
        "**reservation_status**: Reservation last status, assuming one of three categories Canceled - booking was canceled by the customer Check-Out - customer has checked in but already departed No-Show - customer did not check-in and did inform the hotel of the reason why reservation_status_date - Date at which the last status was set"
      ],
      "metadata": {
        "id": "aJV4KIxSnxay"
      }
    },
    {
      "cell_type": "code",
      "source": [
        "# Check Unique Values for each variable.\n",
        "pd.Series({col:data_1[col].unique() for col in data_1})"
      ],
      "metadata": {
        "id": "zms12Yq5n-jE"
      },
      "execution_count": null,
      "outputs": []
    },
    {
      "cell_type": "markdown",
      "source": [
        "## 3. ***Data Wrangling***"
      ],
      "metadata": {
        "id": "dauF4eBmngu3"
      }
    },
    {
      "cell_type": "markdown",
      "source": [
        "### Data Wrangling Code"
      ],
      "metadata": {
        "id": "bKJF3rekwFvQ"
      }
    },
    {
      "cell_type": "code",
      "source": [
        "# Write your code to make your dataset analysis ready.\n",
        "data_2= data_1.copy() #made a new copy of data set with name data_2 so that it cant be missed.\n"
      ],
      "metadata": {
        "id": "wk-9a2fpoLcV"
      },
      "execution_count": null,
      "outputs": []
    },
    {
      "cell_type": "code",
      "source": [
        "data_2['children'].fillna(0,inplace=True)\n",
        "data_2['company'].fillna(0,inplace=True)\n",
        "data_2['agent'].fillna(0,inplace=True)\n",
        "data_2['country'].fillna('Others',inplace=True)  # null values are replaced by Others for country column"
      ],
      "metadata": {
        "id": "Y3lf7mQCGHBP"
      },
      "execution_count": null,
      "outputs": []
    },
    {
      "cell_type": "code",
      "source": [
        "data_2.isnull().sum()               #checking again if all null values are removed."
      ],
      "metadata": {
        "id": "rCxom5E4Gr5K"
      },
      "execution_count": null,
      "outputs": []
    },
    {
      "cell_type": "code",
      "source": [
        "# Now we have observed 'company 'column has lot of null values so delete that column.\n",
        "data_2.drop(['company'], axis=1, inplace=True)"
      ],
      "metadata": {
        "id": "6r9AgoN-SlUw"
      },
      "execution_count": null,
      "outputs": []
    },
    {
      "cell_type": "code",
      "source": [
        "#dropping rows where no adults, children and babies are available because no bookings were made that day\n",
        "no_guest= data_2[data_2['adults']+ data_2['children'] + data_2['babies']==0]\n",
        "data_2.drop(no_guest.index, inplace=True)"
      ],
      "metadata": {
        "id": "F8xJ2MIqTdNE"
      },
      "execution_count": null,
      "outputs": []
    },
    {
      "cell_type": "code",
      "source": [
        "#add the new columns 'total people' and 'total stay'\n",
        "data_2['total_people'] = data_2['adults'] + data_2['babies'] + data_2['children']\n",
        "\n",
        "data_2['total_stay'] = data_2['stays_in_week_nights'] +data_2['stays_in_weekend_nights']"
      ],
      "metadata": {
        "id": "62Kc39YRXDkP"
      },
      "execution_count": null,
      "outputs": []
    },
    {
      "cell_type": "code",
      "source": [
        "# once again check the data for columns, first(5), tail(5)\n",
        "data_2.info()"
      ],
      "metadata": {
        "id": "OdPxaB0TXqc-"
      },
      "execution_count": null,
      "outputs": []
    },
    {
      "cell_type": "code",
      "source": [
        "data_2.head(5)"
      ],
      "metadata": {
        "id": "VhyZzQJXX7Xw"
      },
      "execution_count": null,
      "outputs": []
    },
    {
      "cell_type": "code",
      "source": [
        "data_2.tail(5)"
      ],
      "metadata": {
        "id": "YNOBzTlCYF36"
      },
      "execution_count": null,
      "outputs": []
    },
    {
      "cell_type": "code",
      "source": [
        "data_2.columns             #check if new columns got added"
      ],
      "metadata": {
        "id": "WYsZvDA5YMQA"
      },
      "execution_count": null,
      "outputs": []
    },
    {
      "cell_type": "code",
      "source": [
        "pd.Series({col:data_2[col].unique() for col in data_2})"
      ],
      "metadata": {
        "id": "A-kBtEOLZ0Km"
      },
      "execution_count": null,
      "outputs": []
    },
    {
      "cell_type": "markdown",
      "source": [
        "### What all manipulations have you done and insights you found?"
      ],
      "metadata": {
        "id": "MSa1f5Uengrz"
      }
    },
    {
      "cell_type": "markdown",
      "source": [
        "Created a copy of the dataset before doing any manipulation then filled missing values with 0 in children, company and agent columns as those columns had numerical values and in column country filled missing values with 'others'.\n",
        "\n",
        "After dealing with missing values I dropped the 'country' column as this had 96% missing values and was of no use in our analysis. In next step I created 2 new columns named 'total_people' and 'total_stay' for further analysis. In total people column I added all the babies, children and adults. similarly in second new column I added weekend stay and week stay column.\n",
        "\n",
        "After doing all the manipulation I checked new manipulated dataset to check if this is ready to be analyzed.\n",
        "After manipulating the dataset these were the insights I found:\n",
        "1. There are 2 types of hotel which guests could book so I can find which type of hotel was booked most.\n",
        "2. There are different types of guests and they come from different countries.\n",
        "3. Guests can choose different foods from the menu.\n",
        "4. Guests can book hotel directly or through different channels that are available.\n",
        "5. Guests can cancel their booking and there are repeated guests also.\n",
        "6. Guests can choose rooms of their liking while booking.\n",
        "7. There is column available in the dataset named 'adr' which could be used to analyze hotel's performance on the basis of revenue."
      ],
      "metadata": {
        "id": "LbyXE7I1olp8"
      }
    },
    {
      "cell_type": "markdown",
      "source": [
        "## ***4. Data Vizualization, Storytelling & Experimenting with charts : Understand the relationships between variables***"
      ],
      "metadata": {
        "id": "GF8Ens_Soomf"
      }
    },
    {
      "cell_type": "markdown",
      "source": [
        "#### Chart - 1\n",
        "\n",
        "---\n",
        "\n",
        "\n",
        "**MOST PREFFERED HOTEL**"
      ],
      "metadata": {
        "id": "0wOQAZs5pc--"
      }
    },
    {
      "cell_type": "code",
      "source": [
        "# Chart - 1 visualization code\n",
        "#storing unique hotels in a variable\n",
        "hotel_name = data_2['hotel'].unique()\n",
        "\n",
        "#checking the number of unique booking\n",
        "unique_booking = data_2.hotel.value_counts()\n",
        "\n",
        "#creating donut chart\n",
        "fig = px.pie(names=hotel_name, values=unique_booking, hole=0.5, color=hotel_name,\n",
        "             color_discrete_map={'Resort Hotel':'teal', 'City Hotel':'nude'})\n",
        "#giving title and updating the text info\n",
        "fig.update_traces(textinfo='percent + value')\n",
        "fig.update_layout(title_text='Hotel Booking Percentage', title_x = 0.5)\n",
        "\n",
        "#setting the legend at centre\n",
        "\n",
        "fig.update_layout(legend=dict(orientation='h',yanchor='bottom',xanchor='center',x=0.5))\n",
        "\n",
        "#display the figure\n",
        "fig.show()"
      ],
      "metadata": {
        "id": "7v_ESjsspbW7"
      },
      "execution_count": null,
      "outputs": []
    },
    {
      "cell_type": "markdown",
      "source": [
        "##### 1. Why did you pick the specific chart?"
      ],
      "metadata": {
        "id": "K5QZ13OEpz2H"
      }
    },
    {
      "cell_type": "markdown",
      "source": [
        "From the above Pie Chart, I found that guests prefer Resort Hotel over City Hotel.\n",
        "Pie chart is best used for comparison\n"
      ],
      "metadata": {
        "id": "XESiWehPqBRc"
      }
    },
    {
      "cell_type": "markdown",
      "source": [
        "##### 2. What is/are the insight(s) found from the chart?"
      ],
      "metadata": {
        "id": "lQ7QKXXCp7Bj"
      }
    },
    {
      "cell_type": "markdown",
      "source": [
        "This insight is useful for the stakeholder to check which hotel is performing best and they can invest more capitals. There is no such negative growth but stakeholders can focus more on City Hotel to get more bookings and increase the overall revenue. So city hotels can get them more bookings and more revenue."
      ],
      "metadata": {
        "id": "C_j1G7yiqdRP"
      }
    },
    {
      "cell_type": "markdown",
      "source": [
        "##### 3. Will the gained insights help creating a positive business impact?\n",
        "Are there any insights that lead to negative growth? Justify with specific reason."
      ],
      "metadata": {
        "id": "448CDAPjqfQr"
      }
    },
    {
      "cell_type": "markdown",
      "source": [
        "NO"
      ],
      "metadata": {
        "id": "3cspy4FjqxJW"
      }
    },
    {
      "cell_type": "markdown",
      "source": [
        "\n",
        "#### Chart - 2\n",
        "\n",
        "\n",
        "---\n",
        "\n",
        "\n",
        "**Bookings Cancellation Percentage**"
      ],
      "metadata": {
        "id": "KSlN3yHqYklG"
      }
    },
    {
      "cell_type": "code",
      "source": [
        "# Chart - 2 visualization code\n",
        "#storing unique values in a variable\n",
        "cancelled_hotel = data_2.is_canceled.value_counts()\n",
        "\n",
        "#creating pie chart\n",
        "cancelled_hotel.plot.pie(figsize=(9,7), explode=(0.05, 0.05), autopct='%1.2f%%', shadow=True, fontsize=15, startangle=50)\n",
        "\n",
        "#giving the title\n",
        "plt.title(\"Percentage of Hotel Cancellation and Non Cancellation\")\n",
        "plt.axis('equal')\n",
        "\n",
        "#show the pie chart\n",
        "plt.show()"
      ],
      "metadata": {
        "id": "R4YgtaqtYklH"
      },
      "execution_count": null,
      "outputs": []
    },
    {
      "cell_type": "markdown",
      "source": [
        "##### 1. Why did you pick the specific chart?"
      ],
      "metadata": {
        "id": "t6dVpIINYklI"
      }
    },
    {
      "cell_type": "markdown",
      "source": [
        "Pie chart is best suitable for showing comparison."
      ],
      "metadata": {
        "id": "5aaW0BYyYklI"
      }
    },
    {
      "cell_type": "markdown",
      "source": [
        "##### 2. What is/are the insight(s) found from the chart?"
      ],
      "metadata": {
        "id": "ijmpgYnKYklI"
      }
    },
    {
      "cell_type": "markdown",
      "source": [
        "From the chart we can analyse that 27.52% of bookings been cancelled by the customer.This data will be very useful to analyse the reason for cancellation"
      ],
      "metadata": {
        "id": "PSx9atu2YklI"
      }
    },
    {
      "cell_type": "markdown",
      "source": [
        "##### 3. Will the gained insights help creating a positive business impact?\n",
        "Are there any insights that lead to negative growth? Justify with specific reason."
      ],
      "metadata": {
        "id": "-JiQyfWJYklI"
      }
    },
    {
      "cell_type": "markdown",
      "source": [
        "IF we analyse the cancellation we can identify the reason for cancellation. Over that we can create poption like rescedule and refund the wallet moey kind of option to customer will increase our revenue."
      ],
      "metadata": {
        "id": "BcBbebzrYklV"
      }
    },
    {
      "cell_type": "markdown",
      "source": [
        "#### Chart - 3\n",
        "\n",
        "\n",
        "---\n",
        "\n",
        "\n",
        "**Most Preffered Meal Type**"
      ],
      "metadata": {
        "id": "EM7whBJCYoAo"
      }
    },
    {
      "cell_type": "code",
      "source": [
        "# Chart - 3 visualization code\n",
        "#counting each meal type\n",
        "meal_count = data_2.meal.value_counts()\n",
        "\n",
        "#extracting each meal types and storing in a variable\n",
        "meal_name = data_2['meal'].unique()\n",
        "\n",
        "#creating a dataset of each meal type and count\n",
        "meal_df = pd.DataFrame(zip(meal_name, meal_count), columns=['meal name', 'meal count'])\n",
        "\n",
        "#visualize on the bar chart\n",
        "plt.figure(figsize=(15,5))\n",
        "fig = sns.barplot(data=meal_df, x='meal name', y='meal count')\n",
        "fig.set_xticklabels(meal_df['meal name'])\n",
        "plt.title('Most Preffered Meal Type', fontsize=25)\n",
        "plt.show()"
      ],
      "metadata": {
        "id": "t6GMdE67YoAp"
      },
      "execution_count": null,
      "outputs": []
    },
    {
      "cell_type": "markdown",
      "source": [
        "##### 1. Why did you pick the specific chart?"
      ],
      "metadata": {
        "id": "fge-S5ZAYoAp"
      }
    },
    {
      "cell_type": "markdown",
      "source": [
        "Bar chart  would have been best suitable for showing the comarison between,\n",
        "Meal Type Variable Description\n",
        "\n",
        "BB - Bed and Breakfast\n",
        "\n",
        "HB - Half Board\n",
        "\n",
        "FB - Full Board\n",
        "\n",
        "SC - Self Catering"
      ],
      "metadata": {
        "id": "5dBItgRVYoAp"
      }
    },
    {
      "cell_type": "markdown",
      "source": [
        "##### 2. What is/are the insight(s) found from the chart?"
      ],
      "metadata": {
        "id": "85gYPyotYoAp"
      }
    },
    {
      "cell_type": "markdown",
      "source": [
        " We can anaylse that people are interested towards Bed Breakfast meal type."
      ],
      "metadata": {
        "id": "4jstXR6OYoAp"
      }
    },
    {
      "cell_type": "markdown",
      "source": [
        "##### 3. Will the gained insights help creating a positive business impact?\n",
        "Are there any insights that lead to negative growth? Justify with specific reason."
      ],
      "metadata": {
        "id": "RoGjAbkUYoAp"
      }
    },
    {
      "cell_type": "markdown",
      "source": [
        " So bringing on more meal type like Bed and breakfast in option will preferably help stakeholder to make more bookings."
      ],
      "metadata": {
        "id": "zfJ8IqMcYoAp"
      }
    },
    {
      "cell_type": "markdown",
      "source": [
        "#### Chart - 4\n",
        "\n",
        "\n",
        "---\n",
        "\n",
        "\n",
        " **Bookings Across Year**"
      ],
      "metadata": {
        "id": "4Of9eVA-YrdM"
      }
    },
    {
      "cell_type": "code",
      "source": [
        "# Chart - 4 visualization code\n",
        "plt.figure(figsize=(10,4))\n",
        "sns.countplot(x=data_2['arrival_date_year'], hue=data_2['hotel'])\n",
        "plt.title(\"Number of Bookings Across Year\", fontsize=25)\n",
        "plt.show()"
      ],
      "metadata": {
        "id": "irlUoxc8YrdO"
      },
      "execution_count": null,
      "outputs": []
    },
    {
      "cell_type": "markdown",
      "source": [
        "##### 1. Why did you pick the specific chart?"
      ],
      "metadata": {
        "id": "iky9q4vBYrdO"
      }
    },
    {
      "cell_type": "markdown",
      "source": [
        "Bar chart neatly explains which type of hotel was booked more in which year."
      ],
      "metadata": {
        "id": "aJRCwT6DYrdO"
      }
    },
    {
      "cell_type": "markdown",
      "source": [
        "##### 2. What is/are the insight(s) found from the chart?"
      ],
      "metadata": {
        "id": "F6T5p64dYrdO"
      }
    },
    {
      "cell_type": "markdown",
      "source": [
        "We can anaylse from the chart is that bookings in year 2017 was decresed as compare to booking in year 2017."
      ],
      "metadata": {
        "id": "Xx8WAJvtYrdO"
      }
    },
    {
      "cell_type": "markdown",
      "source": [
        "##### 3. Will the gained insights help creating a positive business impact?\n",
        "Are there any insights that lead to negative growth? Justify with specific reason."
      ],
      "metadata": {
        "id": "y-Ehk30pYrdP"
      }
    },
    {
      "cell_type": "markdown",
      "source": [
        "The decrease the booking from year 2016 to 2017 asks us tro anaylse was that decrese due to any factor like price change, servce etc. This can be analysed from the trend and customer feedbacks are also useful tomn anaylse the difference in number rof bookings."
      ],
      "metadata": {
        "id": "jLNxxz7MYrdP"
      }
    },
    {
      "cell_type": "markdown",
      "source": [
        "#### Chart - 5\n",
        "\n",
        "\n",
        "---\n",
        "\n",
        "\n",
        "**Hotel wise Booking by Month**"
      ],
      "metadata": {
        "id": "bamQiAODYuh1"
      }
    },
    {
      "cell_type": "code",
      "source": [
        "# Chart - 5 visualization code\n",
        "#visualizing countplot\n",
        "plt.figure(figsize=(15,5))\n",
        "sns.countplot(x=data_2['arrival_date_month'], hue=data_2['hotel'])\n",
        "plt.title(\"Number of Bookings across Months\", fontsize=25)\n",
        "plt.show()"
      ],
      "metadata": {
        "id": "TIJwrbroYuh3"
      },
      "execution_count": null,
      "outputs": []
    },
    {
      "cell_type": "markdown",
      "source": [
        "##### 1. Why did you pick the specific chart?"
      ],
      "metadata": {
        "id": "QHF8YVU7Yuh3"
      }
    },
    {
      "cell_type": "markdown",
      "source": [
        "Bar graph is east to visualize the comparison between monthly bookings."
      ],
      "metadata": {
        "id": "dcxuIMRPYuh3"
      }
    },
    {
      "cell_type": "markdown",
      "source": [
        "##### 2. What is/are the insight(s) found from the chart?"
      ],
      "metadata": {
        "id": "GwzvFGzlYuh3"
      }
    },
    {
      "cell_type": "markdown",
      "source": [
        "We can analyse the months of july and august are the month of highest bookings."
      ],
      "metadata": {
        "id": "uyqkiB8YYuh3"
      }
    },
    {
      "cell_type": "markdown",
      "source": [
        "##### 3. Will the gained insights help creating a positive business impact?\n",
        "Are there any insights that lead to negative growth? Justify with specific reason."
      ],
      "metadata": {
        "id": "qYpmQ266Yuh3"
      }
    },
    {
      "cell_type": "markdown",
      "source": [
        " So we can anaylse the months of lowest bookings are nov dec and january. for which we can run more offers during that period for geting more number of bookings. festivals might be the reason for people to travel less as they wish to spend more time in their home. Climatology can also be the reason for people to not travle more."
      ],
      "metadata": {
        "id": "_WtzZ_hCYuh4"
      }
    },
    {
      "cell_type": "markdown",
      "source": [
        "#### Chart - 6\n",
        "\n",
        "\n",
        "---\n",
        "\n",
        "\n",
        "**Number of Guests from Each Country**"
      ],
      "metadata": {
        "id": "OH-pJp9IphqM"
      }
    },
    {
      "cell_type": "code",
      "source": [
        "# Chart - 6 visualization code\n",
        "guests = pd.DataFrame(data_2[['country','total_people']])\n",
        "guests_df = guests.groupby(['country'])['total_people'].sum()\n",
        "guests_df.sort_values(ascending=False, inplace=True)\n",
        "top_10_countries = guests_df.head(10)\n",
        "plt.figure(figsize=(12,5))\n",
        "sns.barplot(x=top_10_countries.index,y=top_10_countries).set(title='Country wise Number of Guests')\n",
        "plt.show()"
      ],
      "metadata": {
        "id": "kuRf4wtuphqN"
      },
      "execution_count": null,
      "outputs": []
    },
    {
      "cell_type": "markdown",
      "source": [
        "##### 1. Why did you pick the specific chart?"
      ],
      "metadata": {
        "id": "bbFf2-_FphqN"
      }
    },
    {
      "cell_type": "markdown",
      "source": [
        "Bar chart is easy to visualize and compare."
      ],
      "metadata": {
        "id": "loh7H2nzphqN"
      }
    },
    {
      "cell_type": "markdown",
      "source": [
        "##### 2. What is/are the insight(s) found from the chart?"
      ],
      "metadata": {
        "id": "_ouA3fa0phqN"
      }
    },
    {
      "cell_type": "markdown",
      "source": [
        "Most number of guest are coming from PRT which is portugal and least number of guests are coming from NLD which is Netherland."
      ],
      "metadata": {
        "id": "VECbqPI7phqN"
      }
    },
    {
      "cell_type": "markdown",
      "source": [
        "##### 3. Will the gained insights help creating a positive business impact?\n",
        "Are there any insights that lead to negative growth? Justify with specific reason."
      ],
      "metadata": {
        "id": "Seke61FWphqN"
      }
    },
    {
      "cell_type": "markdown",
      "source": [
        "There are no negative insights. But for creating positive business impact we can analyse that most number of visitors are from portugal so add portugal cuisine and also get portuguese speaking staff(one or two will help). Run more marketing campaigns in netherland to get more vistors from that country."
      ],
      "metadata": {
        "id": "DW4_bGpfphqN"
      }
    },
    {
      "cell_type": "markdown",
      "source": [
        "#### Chart - 7\n",
        "\n",
        "\n",
        "---\n",
        "\n",
        "\n",
        "**Most used Distribution Channel**"
      ],
      "metadata": {
        "id": "PIIx-8_IphqN"
      }
    },
    {
      "cell_type": "code",
      "source": [
        "# Chart - 7 visualization code\n",
        "#creating a dataset of distribution channel name and count\n",
        "dist_df = data_2['distribution_channel'].value_counts().reset_index()\n",
        "#renaming columns\n",
        "dist_df = dist_df.rename(columns={'distribution_channel':'Channel Name','count':'Channel Count'})\n",
        "plt.figure(figsize=(20,12))\n",
        "#plotting pie chart\n",
        "plt.pie(dist_df['Channel Count'].tolist(), labels = dist_df['Channel Name'].tolist(), startangle=50)\n",
        "plt.legend(labels=dist_df['Channel Name'])\n",
        "plt.title('Most used Booking Distribution Channel',fontsize=15)\n",
        "plt.show()"
      ],
      "metadata": {
        "id": "lqAIGUfyphqO"
      },
      "execution_count": null,
      "outputs": []
    },
    {
      "cell_type": "markdown",
      "source": [
        "##### 1. Why did you pick the specific chart?"
      ],
      "metadata": {
        "id": "t27r6nlMphqO"
      }
    },
    {
      "cell_type": "markdown",
      "source": [
        "Pie charts are great for visualization and comparison"
      ],
      "metadata": {
        "id": "iv6ro40sphqO"
      }
    },
    {
      "cell_type": "markdown",
      "source": [
        "##### 2. What is/are the insight(s) found from the chart?"
      ],
      "metadata": {
        "id": "r2jJGEOYphqO"
      }
    },
    {
      "cell_type": "markdown",
      "source": [
        "From the above insight it is clear that TA/TO is the most used distribution channel by guests."
      ],
      "metadata": {
        "id": "Po6ZPi4hphqO"
      }
    },
    {
      "cell_type": "markdown",
      "source": [
        "##### 3. Will the gained insights help creating a positive business impact?\n",
        "Are there any insights that lead to negative growth? Justify with specific reason."
      ],
      "metadata": {
        "id": "b0JNsNcRphqO"
      }
    },
    {
      "cell_type": "markdown",
      "source": [
        "So, hotels can run promotional offers to motivate other channels to contribute more in bookings."
      ],
      "metadata": {
        "id": "xvSq8iUTphqO"
      }
    },
    {
      "cell_type": "markdown",
      "source": [
        "#### Chart - 8\n",
        "\n",
        "\n",
        "---\n",
        "\n",
        "\n",
        "**Most Prefferd Room Type**"
      ],
      "metadata": {
        "id": "BZR9WyysphqO"
      }
    },
    {
      "cell_type": "code",
      "source": [
        "# Chart - 8 visualization code\n",
        "plt.figure(figsize=(15,5))\n",
        "\n",
        "#plotting the values in chart\n",
        "sns.countplot(x=data_2['reserved_room_type'], order=data_2['reserved_room_type'].value_counts().index)\n",
        "\n",
        "#setting title\n",
        "plt.title('Preffered Room Type by Guests', fontsize=20)\n",
        "plt.show()"
      ],
      "metadata": {
        "id": "TdPTWpAVphqO"
      },
      "execution_count": null,
      "outputs": []
    },
    {
      "cell_type": "markdown",
      "source": [
        "##### 1. Why did you pick the specific chart?"
      ],
      "metadata": {
        "id": "jj7wYXLtphqO"
      }
    },
    {
      "cell_type": "markdown",
      "source": [
        "Bar chart is easy fro comparison and analysis."
      ],
      "metadata": {
        "id": "Ob8u6rCTphqO"
      }
    },
    {
      "cell_type": "markdown",
      "source": [
        "##### 2. What is/are the insight(s) found from the chart?"
      ],
      "metadata": {
        "id": "eZrbJ2SmphqO"
      }
    },
    {
      "cell_type": "markdown",
      "source": [
        "From the above chart we can understand that the room type A is the most preffered by the guest while booking the hotel.\n"
      ],
      "metadata": {
        "id": "mZtgC_hjphqO"
      }
    },
    {
      "cell_type": "markdown",
      "source": [
        "##### 3. Will the gained insights help creating a positive business impact?\n",
        "Are there any insights that lead to negative growth? Justify with specific reason."
      ],
      "metadata": {
        "id": "rFu4xreNphqO"
      }
    },
    {
      "cell_type": "markdown",
      "source": [
        "\n",
        "As it is clear that room type A is the most used room type, hotel should increase the number of A type room to maximize the revenue."
      ],
      "metadata": {
        "id": "ey_0qi68phqO"
      }
    },
    {
      "cell_type": "markdown",
      "source": [
        "#### Chart - 9\n",
        "\n",
        "\n",
        "---\n",
        "\n",
        "\n",
        "**Most Assigned Room Type**"
      ],
      "metadata": {
        "id": "YJ55k-q6phqO"
      }
    },
    {
      "cell_type": "code",
      "source": [
        "# Chart - 9 visualization code\n",
        "sns.countplot(x=data_2['assigned_room_type'], order=data_2['assigned_room_type'].value_counts().index)\n",
        "\n",
        "#setting the title\n",
        "plt.title('Assigned Room Type to Guests', fontsize=20)\n",
        "plt.show()"
      ],
      "metadata": {
        "id": "B2aS4O1ophqO"
      },
      "execution_count": null,
      "outputs": []
    },
    {
      "cell_type": "markdown",
      "source": [
        "##### 1. Why did you pick the specific chart?"
      ],
      "metadata": {
        "id": "gCFgpxoyphqP"
      }
    },
    {
      "cell_type": "markdown",
      "source": [
        "Bar chart is easy to visualizae and compare."
      ],
      "metadata": {
        "id": "TVxDimi2phqP"
      }
    },
    {
      "cell_type": "markdown",
      "source": [
        "##### 2. What is/are the insight(s) found from the chart?"
      ],
      "metadata": {
        "id": "OVtJsKN_phqQ"
      }
    },
    {
      "cell_type": "markdown",
      "source": [
        "From the above chart it is clear that room type A is most assigned to the guests.\n"
      ],
      "metadata": {
        "id": "ngGi97qjphqQ"
      }
    },
    {
      "cell_type": "markdown",
      "source": [
        "##### 3. Will the gained insights help creating a positive business impact?\n",
        "Are there any insights that lead to negative growth? Justify with specific reason."
      ],
      "metadata": {
        "id": "lssrdh5qphqQ"
      }
    },
    {
      "cell_type": "markdown",
      "source": [
        "In this chart we saw that around 55,000 guests preffered room type A but 45,000 people were assigned A type room. This could be a reason to cancel the bookings. Hotel could increase A type room to decrease cacellation."
      ],
      "metadata": {
        "id": "tBpY5ekJphqQ"
      }
    },
    {
      "cell_type": "markdown",
      "source": [
        "#### Chart - 10\n",
        "\n",
        "\n",
        "---\n",
        "\n",
        "\n",
        "**Percentage of Repeated Guests**"
      ],
      "metadata": {
        "id": "U2RJ9gkRphqQ"
      }
    },
    {
      "cell_type": "code",
      "source": [
        "# Chart - 10 visualization code\n",
        "#creating a variable containing guests with their repeated counts\n",
        "rep_guests = data_2['is_repeated_guest'].value_counts()\n",
        "\n",
        "#plotting the values in a pie chart\n",
        "rep_guests.plot.pie(autopct='%1.2f%%', explode=(0.00,0.09), figsize=(15,6), shadow=False)\n",
        "\n",
        "#setting the title\n",
        "plt.title('Percentage of Repeated Guests', fontsize=20)\n",
        "plt.axis('equal')\n",
        "plt.show()"
      ],
      "metadata": {
        "id": "GM7a4YP4phqQ"
      },
      "execution_count": null,
      "outputs": []
    },
    {
      "cell_type": "markdown",
      "source": [
        "##### 1. Why did you pick the specific chart?"
      ],
      "metadata": {
        "id": "1M8mcRywphqQ"
      }
    },
    {
      "cell_type": "markdown",
      "source": [
        "pie chart is simple for understanding"
      ],
      "metadata": {
        "id": "8agQvks0phqQ"
      }
    },
    {
      "cell_type": "markdown",
      "source": [
        "##### 2. What is/are the insight(s) found from the chart?"
      ],
      "metadata": {
        "id": "tgIPom80phqQ"
      }
    },
    {
      "cell_type": "markdown",
      "source": [
        "From the above chart we can see that 3.86% guests are repeated guests.\n"
      ],
      "metadata": {
        "id": "Qp13pnNzphqQ"
      }
    },
    {
      "cell_type": "markdown",
      "source": [
        "##### 3. Will the gained insights help creating a positive business impact?\n",
        "Are there any insights that lead to negative growth? Justify with specific reason."
      ],
      "metadata": {
        "id": "JMzcOPDDphqR"
      }
    },
    {
      "cell_type": "markdown",
      "source": [
        "We can see that number of repeated guests is very low and it shows negative growth of the hotel. Hotel can offer loyalty discount to their guests to increase repeated guests. Also taking feedbacks from old customer and understanding their satisfaction level can help."
      ],
      "metadata": {
        "id": "R4Ka1PC2phqR"
      }
    },
    {
      "cell_type": "markdown",
      "source": [
        "#### Chart - 11\n",
        "\n",
        "\n",
        "---\n",
        "\n",
        "\n",
        "**Booking by the Customer Type**"
      ],
      "metadata": {
        "id": "x-EpHcCOp1ci"
      }
    },
    {
      "cell_type": "code",
      "source": [
        "# Chart - 11 visualization code\n",
        "cust_type = data_2['customer_type'].value_counts()\n",
        "\n",
        "#plotting the values in a line chart\n",
        "cust_type.plot(figsize=(15,5))\n",
        "\n",
        "#setting the x label, y label and title\n",
        "plt.xlabel('Booking Count')\n",
        "plt.ylabel('Customer Type')\n",
        "plt.title('Booking by Customer Type')\n",
        "plt.show()"
      ],
      "metadata": {
        "id": "mAQTIvtqp1cj"
      },
      "execution_count": null,
      "outputs": []
    },
    {
      "cell_type": "markdown",
      "source": [
        "##### 1. Why did you pick the specific chart?"
      ],
      "metadata": {
        "id": "X_VqEhTip1ck"
      }
    },
    {
      "cell_type": "markdown",
      "source": [
        "Line chart is very easy to identify the trend in chart."
      ],
      "metadata": {
        "id": "-vsMzt_np1ck"
      }
    },
    {
      "cell_type": "markdown",
      "source": [
        "##### 2. What is/are the insight(s) found from the chart?"
      ],
      "metadata": {
        "id": "8zGJKyg5p1ck"
      }
    },
    {
      "cell_type": "markdown",
      "source": [
        "We can see that Transient customer types has the most number of bookings.\n"
      ],
      "metadata": {
        "id": "ZYdMsrqVp1ck"
      }
    },
    {
      "cell_type": "markdown",
      "source": [
        "##### 3. Will the gained insights help creating a positive business impact?\n",
        "Are there any insights that lead to negative growth? Justify with specific reason."
      ],
      "metadata": {
        "id": "PVzmfK_Ep1ck"
      }
    },
    {
      "cell_type": "markdown",
      "source": [
        "To solve this issue, hotel can run promotional offers to increase the number of bookings over other categories, such as discount for the groups."
      ],
      "metadata": {
        "id": "druuKYZpp1ck"
      }
    },
    {
      "cell_type": "markdown",
      "source": [
        "#### Chart - 12\n",
        "\n",
        "\n",
        "---\n",
        "\n",
        "**Most Preffered Deposit Type**\n"
      ],
      "metadata": {
        "id": "n3dbpmDWp1ck"
      }
    },
    {
      "cell_type": "code",
      "source": [
        "# Chart - 12 visualization code\n",
        "#counting each deposite type\n",
        "deposite = data_2['deposit_type'].value_counts().index\n",
        "\n",
        "#setting the chart size\n",
        "plt.figure(figsize=(8,4))\n",
        "\n",
        "#plotting the values\n",
        "sns.countplot(x=data_2['deposit_type'], order=deposite)\n",
        "plt.title('Most Used Deposite Type')\n",
        "plt.show()"
      ],
      "metadata": {
        "id": "bwevp1tKp1ck"
      },
      "execution_count": null,
      "outputs": []
    },
    {
      "cell_type": "markdown",
      "source": [
        "##### 1. Why did you pick the specific chart?"
      ],
      "metadata": {
        "id": "ylSl6qgtp1ck"
      }
    },
    {
      "cell_type": "markdown",
      "source": [
        "Bar graph is easy to anaylse."
      ],
      "metadata": {
        "id": "m2xqNkiQp1ck"
      }
    },
    {
      "cell_type": "markdown",
      "source": [
        "##### 2. What is/are the insight(s) found from the chart?"
      ],
      "metadata": {
        "id": "ZWILFDl5p1ck"
      }
    },
    {
      "cell_type": "markdown",
      "source": [
        "Most number of bookings is for no deposit type.People are not wiling to keep any deposit with hotels."
      ],
      "metadata": {
        "id": "x-lUsV2mp1ck"
      }
    },
    {
      "cell_type": "markdown",
      "source": [
        "##### 3. Will the gained insights help creating a positive business impact?\n",
        "Are there any insights that lead to negative growth? Justify with specific reason."
      ],
      "metadata": {
        "id": "M7G43BXep1ck"
      }
    },
    {
      "cell_type": "markdown",
      "source": [
        " Change your hoetel bookings more to No deposit to increase bookings."
      ],
      "metadata": {
        "id": "5wwDJXsLp1cl"
      }
    },
    {
      "cell_type": "markdown",
      "source": [
        "#### Chart - 13\n",
        "\n",
        "\n",
        "---\n",
        "\n",
        "\n",
        "**Number of Stays**"
      ],
      "metadata": {
        "id": "Ag9LCva-p1cl"
      }
    },
    {
      "cell_type": "code",
      "source": [
        "# Chart - 13 visualization code\n",
        "#creating a not canceled dataframe\n",
        "not_canceled_df = data_2[data_1['is_canceled']==0]\n",
        "hotel_stay = not_canceled_df[not_canceled_df['total_stay'] <= 15]\n",
        "\n",
        "#setting the plot size and plotting bar chart\n",
        "plt.figure(figsize=(15,5))\n",
        "sns.countplot(x=hotel_stay['total_stay'], hue=hotel_stay['hotel'])\n",
        "\n",
        "#adding the label to the chart\n",
        "plt.title('Total Number of Stays for Each Hotel')\n",
        "plt.xlabel('Total Stay')\n",
        "plt.ylabel('Count of Days')\n",
        "plt.show()"
      ],
      "metadata": {
        "id": "EUfxeq9-p1cl"
      },
      "execution_count": null,
      "outputs": []
    },
    {
      "cell_type": "markdown",
      "source": [
        "##### 1. Why did you pick the specific chart?"
      ],
      "metadata": {
        "id": "E6MkPsBcp1cl"
      }
    },
    {
      "cell_type": "markdown",
      "source": [
        "Best for comparison is bar chart"
      ],
      "metadata": {
        "id": "V22bRsFWp1cl"
      }
    },
    {
      "cell_type": "markdown",
      "source": [
        "##### 2. What is/are the insight(s) found from the chart?"
      ],
      "metadata": {
        "id": "2cELzS2fp1cl"
      }
    },
    {
      "cell_type": "markdown",
      "source": [
        "From the above chart we can see that in City Hotel most people stay for 3 days and in Resort Hotels most people stay for only 1 day."
      ],
      "metadata": {
        "id": "ozQPc2_Ip1cl"
      }
    },
    {
      "cell_type": "markdown",
      "source": [
        "##### 3. Will the gained insights help creating a positive business impact?\n",
        "Are there any insights that lead to negative growth? Justify with specific reason."
      ],
      "metadata": {
        "id": "3MPXvC8up1cl"
      }
    },
    {
      "cell_type": "markdown",
      "source": [
        "Resort Hotel should work on to increase total stay in Resort Hotel to increase revenue."
      ],
      "metadata": {
        "id": "GL8l1tdLp1cl"
      }
    },
    {
      "cell_type": "markdown",
      "source": [
        "Chart - 14\n",
        "\n",
        "\n",
        "---\n",
        "\n",
        "\n",
        "**Average Daily Rate of Hotels**"
      ],
      "metadata": {
        "id": "M4TeWnDvAkm9"
      }
    },
    {
      "cell_type": "code",
      "source": [
        "#visualization of code\n",
        "avg_adr = data_2.groupby('hotel')['adr'].mean()\n",
        "\n",
        "#plotting the graph\n",
        "plt.subplots(figsize=(8,5))\n",
        "avg_adr.plot(kind = 'barh', color=('g','r'))\n",
        "plt.xlabel('ADR')\n",
        "plt.ylabel('Hotel Type')\n",
        "plt.title('ADR of Hotels')\n",
        "plt.show()"
      ],
      "metadata": {
        "id": "mCtRr2mFAgAf"
      },
      "execution_count": null,
      "outputs": []
    },
    {
      "cell_type": "markdown",
      "source": [
        "The resulting horizontal bar graph shows that City Hotels has high Average Daily Rates and Resort Hotels have low Average Daily Rates."
      ],
      "metadata": {
        "id": "um2-rKiFBSrw"
      }
    },
    {
      "cell_type": "markdown",
      "source": [
        "#### Chart - 15 Correlation Heatmap\n",
        "\n",
        "\n",
        "---\n",
        "\n",
        "\n",
        "**Correlation Heatmap**"
      ],
      "metadata": {
        "id": "NC_X3p0fY2L0"
      }
    },
    {
      "cell_type": "code",
      "source": [
        "#Correlation Heatmap code\n",
        "#setting the chart size\n",
        "plt.figure(figsize=(15,10))\n",
        "\n",
        "#creating heatmap to see correlation of each columns\n",
        "sns.heatmap(data_2.corr(numeric_only=True), annot=True)\n",
        "\n",
        "#setting the title\n",
        "plt.title('Correlation of Each Columns', fontsize=20)\n",
        "\n",
        "#show the heatmap\n",
        "plt.show()"
      ],
      "metadata": {
        "id": "Kw0NAxlV7yCv"
      },
      "execution_count": null,
      "outputs": []
    },
    {
      "cell_type": "markdown",
      "source": [
        "##### 1. Why did you pick the specific chart?"
      ],
      "metadata": {
        "id": "UV0SzAkaZNRQ"
      }
    },
    {
      "cell_type": "markdown",
      "source": [
        "correlatio  heatmap shows us the corelation between two variable for specific values.\n",
        "lead time and total_stay is positively corelated. that means if customers stay more then the lead time increases.\n",
        "adults, childrens and babies are corelated to each other. That means more the people more will be adr.\n",
        "is_repeated guest and previous bookings not canceled has strong corelation. That means repeated guests don't cancel their bookings."
      ],
      "metadata": {
        "id": "DVPuT8LYZNRQ"
      }
    },
    {
      "cell_type": "markdown",
      "source": [
        "#### Chart - 16 - Pair Plot"
      ],
      "metadata": {
        "id": "q29F0dvdveiT"
      }
    },
    {
      "cell_type": "code",
      "source": [
        "# Pair Plot visualization code\n",
        "sns.pairplot(data_2)\n",
        "plt.show()\n",
        "#view output in full screen only"
      ],
      "metadata": {
        "id": "o58-TEIhveiU",
        "collapsed": true
      },
      "execution_count": null,
      "outputs": []
    },
    {
      "cell_type": "markdown",
      "source": [
        "##### 1. Why did you pick the specific chart?"
      ],
      "metadata": {
        "id": "EXh0U9oCveiU"
      }
    },
    {
      "cell_type": "markdown",
      "source": [
        "A pair plot allows us to see both distribution of single varaible and relationshiop between two variable.\n",
        "We can analsye\n",
        "1)if cancellation increased total stay decreases.\n",
        "2)As the total numberof people increases adr also increases. thus adr and total numbe rof people are directly proptional to each other."
      ],
      "metadata": {
        "id": "eMmPjTByveiU"
      }
    },
    {
      "cell_type": "markdown",
      "source": [
        "## **5. Solution to Business Objective**"
      ],
      "metadata": {
        "id": "JcMwzZxoAimU"
      }
    },
    {
      "cell_type": "markdown",
      "source": [
        "#### What do you suggest the client to achieve Business Objective ?\n",
        "Explain Briefly."
      ],
      "metadata": {
        "id": "8G2x9gOozGDZ"
      }
    },
    {
      "cell_type": "markdown",
      "source": [
        "\n",
        "***Stimulating Bookings:*** Stakeholders may boost bookings by offering discounts at City Hotels, given the prevailing preference for Resort Hotels among guests.\n",
        "\n",
        "***Encouraging Loyalty:*** Introducing loyalty incentives could effectively reduce cancellations, which currently account for approximately 27.52% of bookings.\n",
        "\n",
        "***Streamlining Operations:*** Maintaining a sufficient stock of raw materials for the BB meal option, favored by most guests, can streamline operations and enhance satisfaction.\n",
        "\n",
        "***Improving Capacity:*** Enhancing room capacity at City Hotels could significantly reduce wait times and elevate overall guest satisfaction.\n",
        "\n",
        "***Targeted Promotions:*** Implementing targeted promotions can diversify bookings across various market segments, especially considering TA's dominance in securing bookings.\n",
        "\n",
        "***Enhancing Guest Satisfaction:*** Increasing the availability of Room Type A, preferred by guests, can significantly enhance overall guest satisfaction.\n",
        "\n",
        "***Fostering Guest Loyalty:*** Identifying areas for improvement to enhance guest experience and foster guest loyalty is crucial, particularly given the low number of repeat guests.\n",
        "\n",
        "***Efficient Management:*** Efficient management of city hotel operations is essential, considering the higher demand and extended wait times compared to Resort Hotels.\n",
        "\n",
        "***Accommodating Longer Stays:*** Strategies to accommodate longer stays could enhance overall performance, given the prevailing optimal stay duration of less than 7 days at both hotel types.\n",
        "\n",
        "Catering to Market Preferences: ***italicized text***Catering to the preferences and needs of guests from Portugal, representing the largest proportion of guests, can further enhance market presence and satisfaction."
      ],
      "metadata": {
        "id": "pASKb0qOza21"
      }
    },
    {
      "cell_type": "markdown",
      "source": [
        "# **Conclusion**"
      ],
      "metadata": {
        "id": "gCX9965dhzqZ"
      }
    },
    {
      "cell_type": "markdown",
      "source": [
        "\n",
        "To effectively achieve the business objectives, it's recommended that the client adopts dynamic pricing strategies and introduces enticing offers and packages to attract new customers. To foster customer loyalty and encourage repeat business, implementing a loyalty points program that customers can redeem on future bookings would be beneficial. Furthermore, enhancing amenities like parking facilities, a dedicated kids' corner, and complimentary internet access can contribute to increasing the number of bookings."
      ],
      "metadata": {
        "id": "Fjb1IsQkh3yE"
      }
    },
    {
      "cell_type": "markdown",
      "source": [
        "### ***Hurrah! You have successfully completed your EDA Capstone Project !!!***"
      ],
      "metadata": {
        "id": "gIfDvo9L0UH2"
      }
    }
  ]
}